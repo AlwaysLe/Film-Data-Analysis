{
 "cells": [
  {
   "cell_type": "markdown",
   "metadata": {},
   "source": [
    "# Director Analysis\n",
    "Use the IMDb data to uncover the film directors' career path\n",
    "In here, I use the IMDb set that includes millions films' information which has already been cleaned for use. The data clean steps will be post later.\n",
    "\n",
    "Firstly, load dataset:"
   ]
  },
  {
   "cell_type": "code",
   "execution_count": 1,
   "metadata": {},
   "outputs": [],
   "source": [
    "#Modules used in the data\n",
    "import pandas as pd\n",
    "import numpy as np\n",
    "from   scipy import stats\n",
    "import matplotlib.pyplot as plt\n",
    "import seaborn as sns\n",
    "import time\n",
    "import psycopg2\n",
    "from tqdm import tqdm\n",
    "pd.set_option('display.max_columns', 20)\n",
    "pd.set_option('precision',2)\n"
   ]
  },
  {
   "cell_type": "code",
   "execution_count": 2,
   "metadata": {},
   "outputs": [],
   "source": [
    "def tempfileread():\n",
    "    df = pd.read_csv('/Users/xintongli/PycharmProjects/Project/Film Data Analysis/Data_temp.csv',\n",
    "                     index_col = 0,low_memory=False)\n",
    "    df_name = pd.read_csv('/Users/xintongli/PycharmProjects/Project/Film Data Analysis/SQL_name.csv',\n",
    "                          index_col = 0)\n",
    "    #Depend on specific which table to analyze\n",
    "    df_flexible = pd.read_csv('/Users/xintongli/PycharmProjects/Project/Film Data Analysis/SQL_exp.csv',\n",
    "                          index_col = 0)\n",
    "    summary = pd.read_csv('/Users/xintongli/PycharmProjects/Project/Film Data Analysis/SQL_summary.csv',\n",
    "                          index_col = 0)\n",
    "    dflist = pd.read_csv('/Users/xintongli/PycharmProjects/Project/Film Data Analysis/List_temp')\n",
    "    return df, df_name, df_flexible, summary, dflist\n",
    "\n",
    "df      = tempfileread()[0].sort_index()\n",
    "df_name = tempfileread()[1].sort_index()\n",
    "year_a  = tempfileread()[2].sort_index()\n",
    "summary = tempfileread()[3].sort_index()\n",
    "\n",
    "df.columns = df.columns.str.lower()"
   ]
  },
  {
   "cell_type": "markdown",
   "metadata": {},
   "source": [
    "df: data sort by film title\n",
    "\n",
    "df_name: uses the film directors as entry, described each film directors' profile\n",
    "* nconst (string) - alphanumeric unique identifier of the name/person\n",
    "* primaryName (string)– name by which the person is most often credited\n",
    "* birthYear\n",
    "* deathYear\n",
    "* age\n",
    "\n",
    "year_a: year analysis. Analyze year related data grouped by directors; excluded director without the bith year and age greater than 110\n",
    "* startyearmin - the first film release year\n",
    "* startyearmax - the last film release year\n",
    "* toprate - the top rated film\n",
    "* numvotes - popularity of the directors. Total number of votes\n",
    "* numberall - total film realeased before the directors past away\n",
    "* birthyear - directors' birthyear\n",
    "* age - directors' age\n",
    "* topyearmin - first top rated film release year\n",
    "* topyearmax - last top rated film release year\n",
    "* topyearavg - average age to produce the top rated film\n",
    "* count - number of top rated film\n",
    "* startyearlen - the career length. The length of the first film and the last film release year\n",
    "* topyearlen - topyearmax - topyearmin\n",
    "* topagemin - age when shoots the first top rated film. Topyearmin - birthyear\n",
    "* topagemax - age when shoots the last top rated film. Topyearmax - birthyear\n",
    "    \n",
    "summary: general information about data\n",
    "* numberall - numbers of directed film\n",
    "* runtimeminutes - average film running times of each director\n",
    "* averagerating - arithmetic average of rating\n",
    "* numvotes - total number of people who vote for film, indicating the popularity of the film/director\n",
    "\n",
    "Take a look at general information"
   ]
  },
  {
   "cell_type": "code",
   "execution_count": 3,
   "metadata": {},
   "outputs": [
    {
     "name": "stdout",
     "output_type": "stream",
     "text": [
      "count    111380.00\n",
      "mean          2.56\n",
      "std           4.98\n",
      "min           1.00\n",
      "25%           1.00\n",
      "50%           1.00\n",
      "75%           2.00\n",
      "max         202.00\n",
      "Name: numberall, dtype: float64\n",
      "Percentil of direct 1 film: 70.35015263063387\n",
      "Percentil of direct 5 film: 90.27697970910397\n"
     ]
    }
   ],
   "source": [
    "print(summary['numberall'].describe())\n",
    "\n",
    "print('Percentil of direct 1 film: ' +'{}'.format(stats.percentileofscore(summary['numberall'].to_list(),2)))\n",
    "\n",
    "print('Percentil of direct 5 film: ' +'{}'.format(stats.percentileofscore(summary['numberall'].to_list(),5)))\n"
   ]
  },
  {
   "cell_type": "markdown",
   "metadata": {},
   "source": [
    "There are 111380 film directors in the summary. 70.4% of them direct for only 1 film, and 10% directs more than 5 movies."
   ]
  },
  {
   "cell_type": "code",
   "execution_count": 4,
   "metadata": {},
   "outputs": [
    {
     "data": {
      "text/html": [
       "<div>\n",
       "<style scoped>\n",
       "    .dataframe tbody tr th:only-of-type {\n",
       "        vertical-align: middle;\n",
       "    }\n",
       "\n",
       "    .dataframe tbody tr th {\n",
       "        vertical-align: top;\n",
       "    }\n",
       "\n",
       "    .dataframe thead th {\n",
       "        text-align: right;\n",
       "    }\n",
       "</style>\n",
       "<table border=\"1\" class=\"dataframe\">\n",
       "  <thead>\n",
       "    <tr style=\"text-align: right;\">\n",
       "      <th></th>\n",
       "      <th>runtimeminutes</th>\n",
       "      <th>averagerating</th>\n",
       "      <th>numvotes</th>\n",
       "    </tr>\n",
       "  </thead>\n",
       "  <tbody>\n",
       "    <tr>\n",
       "      <th>count</th>\n",
       "      <td>226742.00</td>\n",
       "      <td>252540.00</td>\n",
       "      <td>2.53e+05</td>\n",
       "    </tr>\n",
       "    <tr>\n",
       "      <th>mean</th>\n",
       "      <td>94.29</td>\n",
       "      <td>6.14</td>\n",
       "      <td>3.35e+03</td>\n",
       "    </tr>\n",
       "    <tr>\n",
       "      <th>std</th>\n",
       "      <td>118.95</td>\n",
       "      <td>1.32</td>\n",
       "      <td>3.19e+04</td>\n",
       "    </tr>\n",
       "    <tr>\n",
       "      <th>min</th>\n",
       "      <td>1.00</td>\n",
       "      <td>1.00</td>\n",
       "      <td>5.00e+00</td>\n",
       "    </tr>\n",
       "    <tr>\n",
       "      <th>25%</th>\n",
       "      <td>81.00</td>\n",
       "      <td>5.40</td>\n",
       "      <td>1.40e+01</td>\n",
       "    </tr>\n",
       "    <tr>\n",
       "      <th>50%</th>\n",
       "      <td>91.00</td>\n",
       "      <td>6.30</td>\n",
       "      <td>5.00e+01</td>\n",
       "    </tr>\n",
       "    <tr>\n",
       "      <th>75%</th>\n",
       "      <td>103.00</td>\n",
       "      <td>7.00</td>\n",
       "      <td>2.67e+02</td>\n",
       "    </tr>\n",
       "    <tr>\n",
       "      <th>max</th>\n",
       "      <td>51420.00</td>\n",
       "      <td>10.00</td>\n",
       "      <td>2.30e+06</td>\n",
       "    </tr>\n",
       "  </tbody>\n",
       "</table>\n",
       "</div>"
      ],
      "text/plain": [
       "       runtimeminutes  averagerating  numvotes\n",
       "count       226742.00      252540.00  2.53e+05\n",
       "mean            94.29           6.14  3.35e+03\n",
       "std            118.95           1.32  3.19e+04\n",
       "min              1.00           1.00  5.00e+00\n",
       "25%             81.00           5.40  1.40e+01\n",
       "50%             91.00           6.30  5.00e+01\n",
       "75%            103.00           7.00  2.67e+02\n",
       "max          51420.00          10.00  2.30e+06"
      ]
     },
     "execution_count": 4,
     "metadata": {},
     "output_type": "execute_result"
    }
   ],
   "source": [
    "df[['runtimeminutes', 'averagerating', 'numvotes']].describe()"
   ]
  },
  {
   "cell_type": "code",
   "execution_count": 5,
   "metadata": {},
   "outputs": [
    {
     "name": "stdout",
     "output_type": "stream",
     "text": [
      "The longest film is: 51420.0, number votes: 49.0\n",
      "Percentage of lower than 100 votes: 61.653401441355825\n"
     ]
    }
   ],
   "source": [
    "print('The longest film is: ' + '{}'.format(df['runtimeminutes'].max()) + ', number votes: ' + \n",
    "      '{}'.format(df['numvotes'][df['runtimeminutes'] == df['runtimeminutes'].max()].iloc[0]))\n",
    "\n",
    "print('Percentage of lower than 100 votes: ' +'{}'.format(stats.percentileofscore(df['numvotes'].to_list(),100)))"
   ]
  },
  {
   "cell_type": "markdown",
   "metadata": {},
   "source": [
    "Among 200 thousands films, the length of film is quite stable, with the average film length around 1.5 hours. Interestingly, there is an outlier -- the 51420 minutes(35 days) film, and 49 users vote for it. The rating of IMDb ranged from 1 to 10, with the mean score 6.14, and 75% of rates is lower than 7. It seems that get high scores is not easy in IMDb. The popularity are different from movie to movie. 61.7% of films have fewer than 100 people votes.\n",
    "\n",
    "These are the overview of the film data. Those statistics indicates that a large part of films are produced without attracting enough attention from the public. Films are made for different reason, as the 35-days-long documentary definitely does not targeted on the same group as commercial film does."
   ]
  },
  {
   "cell_type": "markdown",
   "metadata": {},
   "source": [
    "## Director's Career Length and Rating\n",
    "Secondly, let us take look into details of the relation between the directos' career length and film's rating."
   ]
  },
  {
   "cell_type": "code",
   "execution_count": 6,
   "metadata": {
    "scrolled": true
   },
   "outputs": [
    {
     "name": "stdout",
     "output_type": "stream",
     "text": [
      "Average career length: 8.858376249621326\n",
      "Average career length with multiple piece: 14.94887786922959\n"
     ]
    }
   ],
   "source": [
    "print('Average career length: ' + '{}'.format(year_a['startyearlen'].mean()))\n",
    "\n",
    "print('Average career length with multiple piece: ' + \n",
    "      '{}'.format(year_a['startyearlen'][year_a['numberall']>1].mean()))"
   ]
  },
  {
   "cell_type": "markdown",
   "metadata": {},
   "source": [
    "Directors' average career life is 8.6 years. However, as previous part shows, 70% of film directors only produce one 1 films, and their career length shortens to zero, when the career length is estimated with the length between film' release year. To exclude those \"outliers\", the average career length increases to 14.8 years."
   ]
  },
  {
   "cell_type": "code",
   "execution_count": 7,
   "metadata": {},
   "outputs": [
    {
     "name": "stdout",
     "output_type": "stream",
     "text": [
      "Average top rating 6.685501363223266\n",
      "Average rating 6.241451607110791\n",
      "Mode of top rating 7.0\n",
      "Mode of rating 6.8\n"
     ]
    },
    {
     "data": {
      "image/png": "[encoded data removed]",
      "text/plain": [
       "<Figure size 432x288 with 1 Axes>"
      ]
     },
     "metadata": {
      "needs_background": "light"
     },
     "output_type": "display_data"
    }
   ],
   "source": [
    "#Director's top rated film\n",
    "fig, ax = plt.subplots()\n",
    "ax.hist(year_a['toprate'],\n",
    "        density = True, histtype = 'step', bins=20, label = 'Top Rate', color = 'Blue')\n",
    "ax.hist(summary['averagerating'],\n",
    "        density = True, alpha =0.2, bins=20, label = 'Average Rate', color = 'Blue')\n",
    "ax.set_xlabel('Rating')\n",
    "ax.set_ylabel('Density')\n",
    "plt.tight_layout()\n",
    "ax.legend(loc='upper left')\n",
    "print(('Average top rating ' + '{}'.format(year_a['toprate'].mean())))\n",
    "print(('Average rating ' + '{}'.format(summary['averagerating'].mean())))\n",
    "\n",
    "print(('Mode of top rating ' + '{}'.format(year_a['toprate'].mode()[0])))\n",
    "print(('Mode of rating ' + '{}'.format(summary['averagerating'].mode()[0])))"
   ]
  },
  {
   "cell_type": "markdown",
   "metadata": {},
   "source": [
    "When plot the average rating and the top average rating, the density of the top rate shift ot the left with higher grades. The mean rate shift from 6.2 to 6.7, which is 5% increase in rate, and most common rating moves to 7.0 compared with 6.8.\n",
    "\n",
    "Even with the highest rate of director's film, the rating still remains between rate 6 to 7, no siginificant change to higher score."
   ]
  },
  {
   "cell_type": "code",
   "execution_count": 8,
   "metadata": {},
   "outputs": [
    {
     "name": "stdout",
     "output_type": "stream",
     "text": [
      "Golen Age of all film Directors' age:\n",
      "topagemin    40.91\n",
      "topagemax    41.28\n",
      "dtype: float64\n",
      "Golen Age of multiple films Directors' age:\n",
      "topagemin    41.57\n",
      "topagemax    42.19\n",
      "dtype: float64\n",
      "count    33010.00\n",
      "mean         0.37\n",
      "std          2.31\n",
      "min          0.00\n",
      "25%          0.00\n",
      "50%          0.00\n",
      "75%          0.00\n",
      "max         50.00\n",
      "Name: topyearlen, dtype: float64\n"
     ]
    }
   ],
   "source": [
    "#Dirctor's Golden Age of Creation\n",
    "print('Golen Age of all film Directors\\' age:')\n",
    "print(year_a[['topagemin', 'topagemax']].mean())\n",
    "\n",
    "\n",
    "print('Golen Age of multiple films Directors\\' age:')\n",
    "print(year_a[['topagemin', 'topagemax']][year_a['numberall']>1].mean())\n",
    "print(year_a['topyearlen'].describe())"
   ]
  },
  {
   "cell_type": "markdown",
   "metadata": {},
   "source": [
    "After summarizing the directors' age when the top rated film is produced, the golden age of creation is around 40 to 41. Excluding the influence from one-piece-work director, the golden age of creation shift less than 1 year to 42. Film dirctors in this age has accumulated life experience and also be energetic to devote for film production. Furthermore, film direcotors built reputation during the early work in the film industry, which provide resources and foundation for a good rated film produced in this golden age."
   ]
  },
  {
   "cell_type": "code",
   "execution_count": 13,
   "metadata": {},
   "outputs": [
    {
     "data": {
      "image/png": "[encoded data removed]",
      "text/plain": [
       "<Figure size 432x288 with 1 Axes>"
      ]
     },
     "metadata": {
      "needs_background": "light"
     },
     "output_type": "display_data"
    }
   ],
   "source": [
    "#Dirctor's Golden Age of Creation\n",
    "#Group by Decade\n",
    "year_a['decade'] = pd.cut(year_a['startyearavg'],\n",
    "                           [year_a['startyearavg'].min()]+list(range(1950,2020,10))+[year_a['startyearavg'].max()],\n",
    "                          labels=['pre1950']+list(range(1950,2020,10)),\n",
    "                          include_lowest=True)\n",
    "#sns.boxplot(y=year_a['toprate'][year_a['numberall']>1],x=year_a['decade'][year_a['numberall']>1])\n",
    "year_a_copy = year_a.groupby(year_a['startyearavg']).agg({'toprate': np.mean,\n",
    "                                                          'count': 'sum'})\n",
    "g = sns.scatterplot(y='toprate', x=year_a_copy.index, hue='count', size='count', data=year_a_copy)\n",
    "plt.title('Top Rated Film Vs. Released Year')\n",
    "plt.xlabel('Year')\n",
    "plt.ylabel('Average Rate of the Top Rate')\n",
    "g.legend_.texts[0].set_text(\"\")\n",
    "g.legend_.texts[0].set_text('Number of top rated films')"
   ]
  },
  {
   "cell_type": "code",
   "execution_count": null,
   "metadata": {},
   "outputs": [],
   "source": []
  }
 ],
 "metadata": {
  "kernelspec": {
   "display_name": "Python 3",
   "language": "python",
   "name": "python3"
  },
  "language_info": {
   "codemirror_mode": {
    "name": "ipython",
    "version": 3
   },
   "file_extension": ".py",
   "mimetype": "text/x-python",
   "name": "python",
   "nbconvert_exporter": "python",
   "pygments_lexer": "ipython3",
   "version": "3.8.1"
  }
 },
 "nbformat": 4,
 "nbformat_minor": 4
}
