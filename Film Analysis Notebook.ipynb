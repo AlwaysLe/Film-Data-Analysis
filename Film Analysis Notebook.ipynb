{
 "cells": [
  {
   "cell_type": "markdown",
   "metadata": {},
   "source": [
    "# Director Analysis\n",
    "Use the IMDb data to uncover the film directors' career path\n",
    "In here, I use the IMDb set that includes millions films' information which has already been cleaned for use. The data clean steps will be post later.\n",
    "Firstly, load dataset:"
   ]
  },
  {
   "cell_type": "code",
   "execution_count": 8,
   "metadata": {},
   "outputs": [],
   "source": [
    "#Module used in the data\n",
    "import pandas as pd\n",
    "import numpy as np\n",
    "from   scipy import stats\n",
    "import matplotlib.pyplot as plt\n",
    "import seaborn as sns\n",
    "import time\n",
    "import psycopg2\n",
    "from tqdm import tqdm\n",
    "pd.set_option('display.max_columns', 20)\n",
    "pd.set_option('precision',2)\n"
   ]
  },
  {
   "cell_type": "code",
   "execution_count": 30,
   "metadata": {},
   "outputs": [],
   "source": [
    "def tempfileread():\n",
    "    df = pd.read_csv('/Users/xintongli/PycharmProjects/Project/Film Data Analysis/SQL_data.csv',\n",
    "                     index_col = 0,low_memory=False)\n",
    "    df_name = pd.read_csv('/Users/xintongli/PycharmProjects/Project/Film Data Analysis/SQL_name.csv',\n",
    "                          index_col = 0)\n",
    "    #Depend on specific which table to analyze\n",
    "    df_flexible = pd.read_csv('/Users/xintongli/PycharmProjects/Project/Film Data Analysis/SQL_exp.csv',\n",
    "                          index_col = 0)\n",
    "    summary = pd.read_csv('/Users/xintongli/PycharmProjects/Project/Film Data Analysis/SQL_summary.csv',\n",
    "                          index_col = 0)\n",
    "    dflist = pd.read_csv('/Users/xintongli/PycharmProjects/Project/Film Data Analysis/List_temp')\n",
    "    return df, df_name, df_flexible, summary, dflist\n",
    "df      = tempfileread()[0].sort_index()\n",
    "df_name = tempfileread()[1].sort_index()\n",
    "year_a  = tempfileread()[2].sort_index()\n",
    "summary = tempfileread()[3].sort_index()\n"
   ]
  },
  {
   "cell_type": "markdown",
   "metadata": {},
   "source": [
    "df: data sort by film title\n",
    "df_name: uses the film directors as entry, described each film directors' profile:\n",
    "    nconst (string) - alphanumeric unique identifier of the name/person\n",
    "    primaryName (string)– name by which the person is most often credited\n",
    "    birthYear\n",
    "    deathYear\n",
    "    age\n",
    "year_a: year analysis. Analyze year related data:\n",
    "    \n",
    "summary: general information about data\n",
    "    numberall - numbers of directed film\n",
    "    runtimeminutes - average film running times of each director\n",
    "    averagerating - arithmetic average of rating\n",
    "    numvotes - total number of people who vote for film, indicating the popularity of the film/director\n",
    "\n",
    "Take a look at general information"
   ]
  },
  {
   "cell_type": "code",
   "execution_count": 32,
   "metadata": {},
   "outputs": [
    {
     "data": {
      "text/plain": [
       "count    111380.00\n",
       "mean          2.56\n",
       "std           4.98\n",
       "min           1.00\n",
       "25%           1.00\n",
       "50%           1.00\n",
       "75%           2.00\n",
       "max         202.00\n",
       "Name: numberall, dtype: float64"
      ]
     },
     "execution_count": 32,
     "metadata": {},
     "output_type": "execute_result"
    }
   ],
   "source": [
    "summary['numberall'].describe()"
   ]
  },
  {
   "cell_type": "code",
   "execution_count": 37,
   "metadata": {},
   "outputs": [
    {
     "data": {
      "text/html": [
       "<div>\n",
       "<style scoped>\n",
       "    .dataframe tbody tr th:only-of-type {\n",
       "        vertical-align: middle;\n",
       "    }\n",
       "\n",
       "    .dataframe tbody tr th {\n",
       "        vertical-align: top;\n",
       "    }\n",
       "\n",
       "    .dataframe thead th {\n",
       "        text-align: right;\n",
       "    }\n",
       "</style>\n",
       "<table border=\"1\" class=\"dataframe\">\n",
       "  <thead>\n",
       "    <tr style=\"text-align: right;\">\n",
       "      <th></th>\n",
       "      <th>runtimeminutes</th>\n",
       "      <th>averagerating</th>\n",
       "      <th>numvotes</th>\n",
       "    </tr>\n",
       "  </thead>\n",
       "  <tbody>\n",
       "    <tr>\n",
       "      <th>count</th>\n",
       "      <td>256399.00</td>\n",
       "      <td>285546.00</td>\n",
       "      <td>2.86e+05</td>\n",
       "    </tr>\n",
       "    <tr>\n",
       "      <th>mean</th>\n",
       "      <td>94.55</td>\n",
       "      <td>6.15</td>\n",
       "      <td>3.30e+03</td>\n",
       "    </tr>\n",
       "    <tr>\n",
       "      <th>std</th>\n",
       "      <td>159.15</td>\n",
       "      <td>1.33</td>\n",
       "      <td>3.16e+04</td>\n",
       "    </tr>\n",
       "    <tr>\n",
       "      <th>min</th>\n",
       "      <td>1.00</td>\n",
       "      <td>1.00</td>\n",
       "      <td>5.00e+00</td>\n",
       "    </tr>\n",
       "    <tr>\n",
       "      <th>25%</th>\n",
       "      <td>81.00</td>\n",
       "      <td>5.40</td>\n",
       "      <td>1.40e+01</td>\n",
       "    </tr>\n",
       "    <tr>\n",
       "      <th>50%</th>\n",
       "      <td>91.00</td>\n",
       "      <td>6.30</td>\n",
       "      <td>4.90e+01</td>\n",
       "    </tr>\n",
       "    <tr>\n",
       "      <th>75%</th>\n",
       "      <td>102.00</td>\n",
       "      <td>7.00</td>\n",
       "      <td>2.58e+02</td>\n",
       "    </tr>\n",
       "    <tr>\n",
       "      <th>max</th>\n",
       "      <td>51420.00</td>\n",
       "      <td>10.00</td>\n",
       "      <td>2.30e+06</td>\n",
       "    </tr>\n",
       "  </tbody>\n",
       "</table>\n",
       "</div>"
      ],
      "text/plain": [
       "       runtimeminutes  averagerating  numvotes\n",
       "count       256399.00      285546.00  2.86e+05\n",
       "mean            94.55           6.15  3.30e+03\n",
       "std            159.15           1.33  3.16e+04\n",
       "min              1.00           1.00  5.00e+00\n",
       "25%             81.00           5.40  1.40e+01\n",
       "50%             91.00           6.30  4.90e+01\n",
       "75%            102.00           7.00  2.58e+02\n",
       "max          51420.00          10.00  2.30e+06"
      ]
     },
     "execution_count": 37,
     "metadata": {},
     "output_type": "execute_result"
    }
   ],
   "source": [
    "df[['runtimeminutes', 'averagerating', 'numvotes']].describe()"
   ]
  },
  {
   "cell_type": "code",
   "execution_count": 39,
   "metadata": {},
   "outputs": [
    {
     "name": "stdout",
     "output_type": "stream",
     "text": [
      "Percentil of direct 1 film: 70.35015263063387\n",
      "Percentil of direct 5 film: 90.27697970910397\n",
      "The longest film is 51420.0, number votes 49\n",
      "Percentage of lower than 100 votes 62.08842007942678\n"
     ]
    }
   ],
   "source": [
    "print('Percentil of direct 1 film: ' +'{}'.format(stats.percentileofscore(summary['numberall'].to_list(),2)))\n",
    "print('Percentil of direct 5 film: ' +'{}'.format(stats.percentileofscore(summary['numberall'].to_list(),5)))\n",
    "print('The longest film is ' + '{}'.format(df['runtimeminutes'].max()) + ', number votes ' + \n",
    "      '{}'.format(df['numvotes'][df['runtimeminutes'] == df['runtimeminutes'].max()].iloc[0]))\n",
    "print('Percentage of lower than 100 votes ' +'{}'.format(stats.percentileofscore(df['numvotes'].to_list(),100)))\n"
   ]
  },
  {
   "cell_type": "markdown",
   "metadata": {},
   "source": [
    "There are 111380 film directors in the summary. 70.4% of them direct for only 1 film, and 10% directs more than 5 movies.\n",
    "Among 200 thousands films, the length of film is quite stable as well, as they are around 1.5 hours. Interestingly, an outlier -- the 51420 minutes(35 days) film does exists and 49 users vote for that. The rating of IMDb ranged from 1 to 10, with the mean score 6.15, and 75% of rates is lower than 7. Get high scores is not easy in IMDb. The popularity are different for film and directors. 62.1% of films have fewer than 100 people votes.\n",
    "This is the overview of the film data. Those statistics indicates that a large part of films are produced without attracting the public's attention, and some films are made for different reason, as the 35-days-long documentary  definitely targets to be wathed as common movie does."
   ]
  },
  {
   "cell_type": "code",
   "execution_count": null,
   "metadata": {
    "scrolled": true
   },
   "outputs": [],
   "source": []
  },
  {
   "cell_type": "code",
   "execution_count": null,
   "metadata": {},
   "outputs": [],
   "source": []
  },
  {
   "cell_type": "code",
   "execution_count": null,
   "metadata": {},
   "outputs": [],
   "source": []
  }
 ],
 "metadata": {
  "kernelspec": {
   "display_name": "Python 3",
   "language": "python",
   "name": "python3"
  },
  "language_info": {
   "codemirror_mode": {
    "name": "ipython",
    "version": 3
   },
   "file_extension": ".py",
   "mimetype": "text/x-python",
   "name": "python",
   "nbconvert_exporter": "python",
   "pygments_lexer": "ipython3",
   "version": "3.8.1"
  }
 },
 "nbformat": 4,
 "nbformat_minor": 4
}
